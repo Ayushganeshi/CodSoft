import tensorflow as tf
from tensorflow.keras.applications import ResNet50
from tensorflow.keras.preprocessing import image
from tensorflow.keras.applications.resnet50 import preprocess_input, decode_predictions
from tensorflow.keras.models import Model
from tensorflow.keras.preprocessing.text import Tokenizer
from tensorflow.keras.preprocessing.sequence import pad_sequences
from tensorflow.keras.layers import Input, Dense, Embedding, LSTM, Add
import numpy as np

# Load pre-trained ResNet50 and remove the top layer
image_model = ResNet50(weights='imagenet')
image_model = Model(image_model.input, image_model.layers[-2].output)

def extract_image_features(img_path):
    img = image.load_img(img_path, target_size=(224, 224))
    x = image.img_to_array(img)
    x = np.expand_dims(x, axis=0)
    x = preprocess_input(x)
    features = image_model.predict(x)
    return features

# Load and preprocess data
captions = ["a man riding a horse", "a cat sitting on a table"]  # Example captions
images = ["image1.jpg", "image2.jpg"]  # Example image paths

# Tokenize the captions
tokenizer = Tokenizer()
tokenizer.fit_on_texts(captions)
vocab_size = len(tokenizer.word_index) + 1
sequences = tokenizer.texts_to_sequences(captions)
max_length = max(len(seq) for seq in sequences)
padded_sequences = pad_sequences(sequences, maxlen=max_length, padding='post')

# Extract image features
image_features = np.array([extract_image_features(img) for img in images])

# Define the model
inputs1 = Input(shape=(image_features.shape[1],))
fe1 = Dense(256, activation='relu')(inputs1)
inputs2 = Input(shape=(max_length,))
se2 = Embedding(vocab_size, 256, mask_zero=True)(inputs2)
se3 = LSTM(256)(se2)
decoder1 = Add()([fe1, se3])
decoder2 = Dense(256, activation='relu')(decoder1)
outputs = Dense(vocab_size, activation='softmax')(decoder2)

model = Model(inputs=[inputs1, inputs2], outputs=outputs)
model.compile(loss='categorical_crossentropy', optimizer='adam')

# Prepare data for training (dummy example)
y = np.zeros((len(images), vocab_size))  # Example target data

# Train the model
model.fit([image_features, padded_sequences], y, epochs=10)

# Predict caption for a new image
def generate_caption(image_path):
    features = extract_image_features(image_path)
    input_text = 'startseq'
    for i in range(max_length):
        sequence = tokenizer.texts_to_sequences([input_text])[0]
        sequence = pad_sequences([sequence], maxlen=max_length, padding='post')
        yhat = model.predict([features, sequence], verbose=0)
        yhat = np.argmax(yhat)
        word = tokenizer.index_word[yhat]
        input_text += ' ' + word
        if word == 'endseq':
            break
    return input_text

# Example caption generation
print(generate_caption("new_image.jpg"))

