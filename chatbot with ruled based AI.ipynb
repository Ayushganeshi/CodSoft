{
 "cells": [
  {
   "cell_type": "code",
   "execution_count": null,
   "id": "caf84b27-a466-4dfd-b044-f4324fd8eeff",
   "metadata": {},
   "outputs": [
    {
     "name": "stdin",
     "output_type": "stream",
     "text": [
      "You:  hello\n"
     ]
    },
    {
     "name": "stdout",
     "output_type": "stream",
     "text": [
      "Chatbot: Hello! How can I help you today?\n"
     ]
    },
    {
     "name": "stdin",
     "output_type": "stream",
     "text": [
      "You:  hello\n"
     ]
    },
    {
     "name": "stdout",
     "output_type": "stream",
     "text": [
      "Chatbot: Hello! How can I help you today?\n"
     ]
    }
   ],
   "source": [
    "def chatbot_response(user_input):\n",
    "    user_input = user_input.lower()\n",
    "    \n",
    "    # Greetings\n",
    "    if \"hello\" in user_input or \"hi\" in user_input:\n",
    "        return \"Hello! How can I help you today?\"\n",
    "    \n",
    "    # Farewells\n",
    "    elif \"bye\" in user_input or \"goodbye\" in user_input:\n",
    "        return \"Goodbye! Have a great day!\"\n",
    "    \n",
    "    # Asking for help\n",
    "    elif \"help\" in user_input:\n",
    "        return \"Sure, I'm here to help! What do you need assistance with?\"\n",
    "    \n",
    "    # Asking about the chatbot\n",
    "    elif \"who are you\" in user_input or \"what are you\" in user_input:\n",
    "        return \"I am a simple rule-based chatbot. How can I assist you?\"\n",
    "    \n",
    "    # Asking about the time\n",
    "    elif \"time\" in user_input:\n",
    "        from datetime import datetime\n",
    "        now = datetime.now()\n",
    "        current_time = now.strftime(\"%H:%M:%S\")\n",
    "        return f\"The current time is {current_time}.\"\n",
    "    \n",
    "    # Asking about the date\n",
    "    elif \"date\" in user_input:\n",
    "        from datetime import datetime\n",
    "        today = datetime.today().strftime('%Y-%m-%d')\n",
    "        return f\"Today's date is {today}.\"\n",
    "    \n",
    "    # Default response\n",
    "    else:\n",
    "        return \"I'm sorry, I don't understand that. Can you please rephrase?\"\n",
    "\n",
    "# Example usage\n",
    "while True:\n",
    "    user_input = input(\"You: \")\n",
    "    if user_input.lower() in [\"exit\", \"quit\"]:\n",
    "        print(\"Chatbot: Goodbye!\")\n",
    "        break\n",
    "    response = chatbot_response(user_input)\n",
    "    print(f\"Chatbot: {response}\")\n"
   ]
  },
  {
   "cell_type": "code",
   "execution_count": null,
   "id": "2e279c76-2a20-48be-834d-cbe3b40b8625",
   "metadata": {},
   "outputs": [],
   "source": []
  }
 ],
 "metadata": {
  "kernelspec": {
   "display_name": "Python 3 (ipykernel)",
   "language": "python",
   "name": "python3"
  },
  "language_info": {
   "codemirror_mode": {
    "name": "ipython",
    "version": 3
   },
   "file_extension": ".py",
   "mimetype": "text/x-python",
   "name": "python",
   "nbconvert_exporter": "python",
   "pygments_lexer": "ipython3",
   "version": "3.12.4"
  }
 },
 "nbformat": 4,
 "nbformat_minor": 5
}
